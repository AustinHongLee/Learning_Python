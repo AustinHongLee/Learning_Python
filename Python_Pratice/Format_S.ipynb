{
 "cells": [
  {
   "cell_type": "code",
   "execution_count": null,
   "metadata": {},
   "outputs": [],
   "source": [
    "使用 % 操作符\n",
    "# %s 字符串\n",
    "# %d 整数\n",
    "# %f 浮点数\n",
    "# %x 十六进制整数\n",
    "# %e 科学计数法\n",
    "# %c 字符\n",
    "# %% 百分号\n",
    "# %o 八进制整数\n",
    "# %r 字符串\n",
    "# %u 无符号整数\n",
    "# %g %f 和 %e 的简写\n",
    "# %i 整数\n",
    "# %p 内存地址\n",
    "# %a ascii\n",
    "# %A ascii\n",
    "# %S 字符串\n",
    "# %U unicode\n",
    "# %X 十六进制整数\n",
    "# %E 科学计数法"
   ]
  },
  {
   "cell_type": "code",
   "execution_count": 15,
   "metadata": {},
   "outputs": [
    {
     "name": "stdout",
     "output_type": "stream",
     "text": [
      "hello felix & 18\n",
      "pi is = 3.141593  circumference is 18.849556\n",
      "number is 1e-10 number is 1.000000e-10\n",
      "char in ascii is A\n"
     ]
    }
   ],
   "source": [
    "name = \"felix\"\n",
    "age = 18\n",
    "dimension = 3\n",
    "pi = 3.1415926\n",
    "number = 10**-10\n",
    "char_A = 65\n",
    "print(\"hello %s & %d\" % (name,age))\n",
    "print(\"pi is = %f  circumference is %f\" % (pi,2*pi*dimension))\n",
    "print(f\"number is {number} number is %e\" % number)\n",
    "print(\"char in ascii is %c\" % char_A)"
   ]
  },
  {
   "cell_type": "code",
   "execution_count": 21,
   "metadata": {},
   "outputs": [
    {
     "name": "stdout",
     "output_type": "stream",
     "text": [
      "hello felix & 18\n",
      "pi is = 3.141593  circumference is 3.141593\n",
      "number is 0.000000 number is 1.000000e-10\n",
      "char in ascii is A\n",
      "just see %(seg)s try it \n"
     ]
    }
   ],
   "source": [
    "#Segment this formatting function.\n",
    "variant_dict = { 'name': 'felix',\n",
    "                'age': 18,\n",
    "                'dimension': 3,\n",
    "                'pi': 3.1415926,\n",
    "                'number': 10**-10,\n",
    "                'char_A': 65 }\n",
    "print(\"hello %(name)s & %(age)d\" % variant_dict)\n",
    "print(\"pi is = %(pi)f  circumference is %(pi)f\" % variant_dict)\n",
    "print(\"number is %(number)f number is %(number)e\" % variant_dict)\n",
    "print(\"char in ascii is %(char_A)c\" % variant_dict)\n",
    "\n",
    "seg = \"go\"\n",
    "print(\"just see %(seg)s try it \")"
   ]
  },
  {
   "cell_type": "code",
   "execution_count": 22,
   "metadata": {},
   "outputs": [
    {
     "name": "stdout",
     "output_type": "stream",
     "text": [
      "hey = hi\n"
     ]
    }
   ],
   "source": [
    "tryin = \"hi\"\n",
    "print(\"hey = %(tryin)s\" % {'tryin': tryin})\n"
   ]
  },
  {
   "cell_type": "code",
   "execution_count": 1,
   "metadata": {},
   "outputs": [
    {
     "name": "stdout",
     "output_type": "stream",
     "text": [
      "10\n",
      "5\n",
      "10\n"
     ]
    }
   ],
   "source": [
    "x=y=z=10\n",
    "y = 5\n",
    "print(x)\n",
    "print(y)\n",
    "print(z)    "
   ]
  },
  {
   "cell_type": "code",
   "execution_count": 2,
   "metadata": {},
   "outputs": [
    {
     "name": "stdout",
     "output_type": "stream",
     "text": [
      "這件衣服的價格是1000而1000.000000\n"
     ]
    }
   ],
   "source": [
    "cloth = \"衣服\"\n",
    "price = 1000\n",
    "float_price = 1000.0\n",
    "print(\"這件%s的價格是%d而%f\" % (cloth, price, float_price))"
   ]
  },
  {
   "cell_type": "code",
   "execution_count": null,
   "metadata": {},
   "outputs": [],
   "source": []
  }
 ],
 "metadata": {
  "kernelspec": {
   "display_name": "Python 3",
   "language": "python",
   "name": "python3"
  },
  "language_info": {
   "codemirror_mode": {
    "name": "ipython",
    "version": 3
   },
   "file_extension": ".py",
   "mimetype": "text/x-python",
   "name": "python",
   "nbconvert_exporter": "python",
   "pygments_lexer": "ipython3",
   "version": "3.11.2"
  }
 },
 "nbformat": 4,
 "nbformat_minor": 2
}
